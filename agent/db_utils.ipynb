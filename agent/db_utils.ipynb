{
 "cells": [
  {
   "cell_type": "markdown",
   "metadata": {},
   "source": [
    "# DB Utils\n",
    "\n",
    "This notebook is used to design any utils necessary for populating my private DB, whether that be with embeddings or any other application related data, hosted with Supabase."
   ]
  },
  {
   "cell_type": "markdown",
   "metadata": {},
   "source": [
    "## Retreival Augmented Generation (RAG)"
   ]
  },
  {
   "cell_type": "markdown",
   "metadata": {},
   "source": [
    "### Step 0: Imports"
   ]
  },
  {
   "cell_type": "code",
   "execution_count": 54,
   "metadata": {},
   "outputs": [
    {
     "name": "stdout",
     "output_type": "stream",
     "text": [
      "Requirement already satisfied: supabase in c:\\users\\halor\\appdata\\local\\programs\\python\\python39\\lib\\site-packages (2.3.0)Note: you may need to restart the kernel to use updated packages.\n"
     ]
    },
    {
     "name": "stderr",
     "output_type": "stream",
     "text": [
      "WARNING: You are using pip version 22.0.4; however, version 23.3.2 is available.\n",
      "You should consider upgrading via the 'c:\\Users\\halor\\AppData\\Local\\Programs\\Python\\Python39\\python.exe -m pip install --upgrade pip' command.\n"
     ]
    },
    {
     "name": "stdout",
     "output_type": "stream",
     "text": [
      "\n",
      "Requirement already satisfied: supafunc<0.4.0,>=0.3.1 in c:\\users\\halor\\appdata\\local\\programs\\python\\python39\\lib\\site-packages (from supabase) (0.3.1)\n",
      "Requirement already satisfied: realtime<2.0.0,>=1.0.0 in c:\\users\\halor\\appdata\\local\\programs\\python\\python39\\lib\\site-packages (from supabase) (1.0.2)\n",
      "Requirement already satisfied: gotrue<3.0,>=1.3 in c:\\users\\halor\\appdata\\local\\programs\\python\\python39\\lib\\site-packages (from supabase) (2.1.0)\n",
      "Requirement already satisfied: storage3<0.8.0,>=0.5.3 in c:\\users\\halor\\appdata\\local\\programs\\python\\python39\\lib\\site-packages (from supabase) (0.7.0)\n",
      "Requirement already satisfied: httpx<0.25.0,>=0.24.0 in c:\\users\\halor\\appdata\\local\\programs\\python\\python39\\lib\\site-packages (from supabase) (0.24.1)\n",
      "Requirement already satisfied: postgrest<0.14.0,>=0.10.8 in c:\\users\\halor\\appdata\\local\\programs\\python\\python39\\lib\\site-packages (from supabase) (0.13.0)\n",
      "Requirement already satisfied: pydantic<3,>=1.10 in c:\\users\\halor\\appdata\\local\\programs\\python\\python39\\lib\\site-packages (from gotrue<3.0,>=1.3->supabase) (2.5.3)\n",
      "Requirement already satisfied: sniffio in c:\\users\\halor\\appdata\\local\\programs\\python\\python39\\lib\\site-packages (from httpx<0.25.0,>=0.24.0->supabase) (1.2.0)\n",
      "Requirement already satisfied: idna in c:\\users\\halor\\appdata\\local\\programs\\python\\python39\\lib\\site-packages (from httpx<0.25.0,>=0.24.0->supabase) (3.3)\n",
      "Requirement already satisfied: certifi in c:\\users\\halor\\appdata\\local\\programs\\python\\python39\\lib\\site-packages (from httpx<0.25.0,>=0.24.0->supabase) (2021.10.8)\n",
      "Requirement already satisfied: httpcore<0.18.0,>=0.15.0 in c:\\users\\halor\\appdata\\local\\programs\\python\\python39\\lib\\site-packages (from httpx<0.25.0,>=0.24.0->supabase) (0.17.3)\n",
      "Requirement already satisfied: deprecation<3.0.0,>=2.1.0 in c:\\users\\halor\\appdata\\local\\programs\\python\\python39\\lib\\site-packages (from postgrest<0.14.0,>=0.10.8->supabase) (2.1.0)\n",
      "Requirement already satisfied: strenum<0.5.0,>=0.4.9 in c:\\users\\halor\\appdata\\local\\programs\\python\\python39\\lib\\site-packages (from postgrest<0.14.0,>=0.10.8->supabase) (0.4.15)\n",
      "Requirement already satisfied: websockets<12.0,>=11.0 in c:\\users\\halor\\appdata\\local\\programs\\python\\python39\\lib\\site-packages (from realtime<2.0.0,>=1.0.0->supabase) (11.0.3)\n",
      "Requirement already satisfied: typing-extensions<5.0.0,>=4.2.0 in c:\\users\\halor\\appdata\\local\\programs\\python\\python39\\lib\\site-packages (from realtime<2.0.0,>=1.0.0->supabase) (4.9.0)\n",
      "Requirement already satisfied: python-dateutil<3.0.0,>=2.8.1 in c:\\users\\halor\\appdata\\local\\programs\\python\\python39\\lib\\site-packages (from realtime<2.0.0,>=1.0.0->supabase) (2.8.2)\n",
      "Requirement already satisfied: packaging in c:\\users\\halor\\appdata\\local\\programs\\python\\python39\\lib\\site-packages (from deprecation<3.0.0,>=2.1.0->postgrest<0.14.0,>=0.10.8->supabase) (23.2)\n",
      "Requirement already satisfied: h11<0.15,>=0.13 in c:\\users\\halor\\appdata\\local\\programs\\python\\python39\\lib\\site-packages (from httpcore<0.18.0,>=0.15.0->httpx<0.25.0,>=0.24.0->supabase) (0.14.0)\n",
      "Requirement already satisfied: anyio<5.0,>=3.0 in c:\\users\\halor\\appdata\\local\\programs\\python\\python39\\lib\\site-packages (from httpcore<0.18.0,>=0.15.0->httpx<0.25.0,>=0.24.0->supabase) (4.2.0)\n",
      "Requirement already satisfied: pydantic-core==2.14.6 in c:\\users\\halor\\appdata\\local\\programs\\python\\python39\\lib\\site-packages (from pydantic<3,>=1.10->gotrue<3.0,>=1.3->supabase) (2.14.6)\n",
      "Requirement already satisfied: annotated-types>=0.4.0 in c:\\users\\halor\\appdata\\local\\programs\\python\\python39\\lib\\site-packages (from pydantic<3,>=1.10->gotrue<3.0,>=1.3->supabase) (0.6.0)\n",
      "Requirement already satisfied: six>=1.5 in c:\\users\\halor\\appdata\\local\\programs\\python\\python39\\lib\\site-packages (from python-dateutil<3.0.0,>=2.8.1->realtime<2.0.0,>=1.0.0->supabase) (1.16.0)\n",
      "Requirement already satisfied: exceptiongroup>=1.0.2 in c:\\users\\halor\\appdata\\local\\programs\\python\\python39\\lib\\site-packages (from anyio<5.0,>=3.0->httpcore<0.18.0,>=0.15.0->httpx<0.25.0,>=0.24.0->supabase) (1.2.0)\n",
      "Requirement already satisfied: python-dotenv in c:\\users\\halor\\appdata\\local\\programs\\python\\python39\\lib\\site-packages (1.0.0)\n",
      "Note: you may need to restart the kernel to use updated packages.\n",
      "The dotenv extension is already loaded. To reload it, use:\n",
      "  %reload_ext dotenv\n"
     ]
    },
    {
     "name": "stderr",
     "output_type": "stream",
     "text": [
      "WARNING: You are using pip version 22.0.4; however, version 23.3.2 is available.\n",
      "You should consider upgrading via the 'c:\\Users\\halor\\AppData\\Local\\Programs\\Python\\Python39\\python.exe -m pip install --upgrade pip' command.\n"
     ]
    }
   ],
   "source": [
    "%pip install supabase\n",
    "%pip install python-dotenv\n",
    "%load_ext dotenv\n",
    "%dotenv"
   ]
  },
  {
   "cell_type": "code",
   "execution_count": 53,
   "metadata": {},
   "outputs": [],
   "source": [
    "import os, requests\n",
    "from supabase import create_client, Client"
   ]
  },
  {
   "cell_type": "markdown",
   "metadata": {},
   "source": [
    "### Step 1: Load"
   ]
  },
  {
   "cell_type": "code",
   "execution_count": null,
   "metadata": {},
   "outputs": [],
   "source": []
  },
  {
   "cell_type": "markdown",
   "metadata": {},
   "source": [
    "### Step 2: Split"
   ]
  },
  {
   "cell_type": "code",
   "execution_count": null,
   "metadata": {},
   "outputs": [],
   "source": []
  },
  {
   "cell_type": "markdown",
   "metadata": {},
   "source": [
    "### Step 3: Store"
   ]
  },
  {
   "cell_type": "code",
   "execution_count": null,
   "metadata": {},
   "outputs": [],
   "source": [
    "# Retrieve anime IDs\n",
    "# Source: https://github.com/seanbreckenridge/mal-id-cache/tree/master\n",
    "# anime_ids_url = \"https://raw.githubusercontent.com/seanbreckenridge/mal-id-cache/master/cache/anime_cache.json\"\n",
    "# response = requests.get(data_url)\n",
    "# ids_json = response.json()\n",
    "# print(ids_json)"
   ]
  },
  {
   "cell_type": "code",
   "execution_count": 49,
   "metadata": {},
   "outputs": [],
   "source": [
    "# def get_anime_name(animeId: int) -> str:\n",
    "#     anime_url = \"https://api.jikan.moe/v4/anime/{id:n}\".format(id=animeId)\n",
    "#     response = requests.get(anime_url)\n",
    "#     anime_json = response.json()\n",
    "    \n",
    "#     print (anime_json)\n",
    "    \n",
    "#     title = anime_json['data']['title']\n",
    "#     title_english = anime_json['data']['title_english']\n",
    "#     title_japanese = anime_json['data']['title_japanese']\n",
    "#     return title, title_english, title_japanese\n",
    "\n",
    "# def insert_anime_to_db(client: Client,\n",
    "#                        id: int, \n",
    "#                        title: str, \n",
    "#                        title_english: str, \n",
    "#                        title_japanese: str, \n",
    "#                        nsfw: bool = False) -> None:\n",
    "#     client.table('mal_ids') \\\n",
    "#     .insert({\"id\": id, \"title\": title, \"title_english\": title_english, \n",
    "#              \"title_japanese\": title_japanese, \"nsfw\": nsfw}) \\\n",
    "#     .onConflict(\"id\") \\\n",
    "#     .ignore() \\\n",
    "#     .execute()"
   ]
  },
  {
   "cell_type": "code",
   "execution_count": null,
   "metadata": {},
   "outputs": [],
   "source": [
    "# url: str = os.getenv(\"SUPABASE_URL\")\n",
    "# key: str = os.getenv(\"SUPABASE_KEY\")\n",
    "# supabase: Client = create_client(url, key)\n",
    "\n",
    "# for id in ids_json['sfw']:\n",
    "#     print(get_anime_name(id))"
   ]
  },
  {
   "cell_type": "markdown",
   "metadata": {},
   "source": [
    "### Step 4: Retrieve"
   ]
  },
  {
   "cell_type": "code",
   "execution_count": null,
   "metadata": {},
   "outputs": [],
   "source": []
  }
 ],
 "metadata": {
  "kernelspec": {
   "display_name": "Python 3",
   "language": "python",
   "name": "python3"
  },
  "language_info": {
   "codemirror_mode": {
    "name": "ipython",
    "version": 3
   },
   "file_extension": ".py",
   "mimetype": "text/x-python",
   "name": "python",
   "nbconvert_exporter": "python",
   "pygments_lexer": "ipython3",
   "version": "3.9.12"
  }
 },
 "nbformat": 4,
 "nbformat_minor": 2
}
