{
 "cells": [
  {
   "cell_type": "markdown",
   "metadata": {},
   "source": [
    "# AniMate Ver. 1.0.0\n",
    "\n",
    "This notebook is used to prototype the LLM Agent that will act as the brain of the LLM-based Chatbot. Here I:\n",
    "1. Define the tools available to the agent\n",
    "2. Experiment with different prompt templates when constructing the agent"
   ]
  },
  {
   "cell_type": "markdown",
   "metadata": {},
   "source": [
    "## Tool Construction\n",
    "\n",
    "The API that the agent will use to find up to date anime related information is the [Jikan API](https://jikan.moe/). It parses the website MyAnimeList.net (MAL), one of the largest anime databases available, to satisfy the needs of the API.\n",
    "\n",
    "The capabilities I need to provide the agent for core functionality are listed below:\n",
    "- **Retrieve anime ID:** Get the MAL ID of the anime. Scraped from the MAL site\n",
    "- **Retrieve anime info:** Get the general information about an anime. *Jikan API endpoint: getAnimeById*\n",
    "- **Retrieve anime episodes:** Get the episode information about an anime. *Jikan API endpoint: getAnimeEpisodes*\n",
    "- **Retrieve anime characters:** Get the character information i.e. name and voice actor. *Jikan API endpoint: getAnimeCharacters*\n",
    "- **Retrieve real-time statistics:** Get the live statistics on an anime. *Jikan API endpoint: getAnimeStatistics*\n",
    "- **Retrieve recommendations:** Get other anime recommendations based on a given anime. *Jikan API endpoint: getAnimeRecommendations*\n",
    "- **Retrieve recommendations (general):** Get a general list of top anime recommendations. *Jikan API endpoint: getTopAnime*\n",
    "- **Retrieve sentiment:** Get sentiment around the anime. *Jikan API endpoint: getAnimeReviews*"
   ]
  },
  {
   "cell_type": "markdown",
   "metadata": {},
   "source": [
    "### Retrieve Anime ID\n",
    "\n",
    "The agent needs the ability to retrieve the MyAnimeList (MAL) ID of a given anime as this ID must be included in the request for almost every endpoint of the Jikan API. Retrieving the MAL ID of a given anime is trivial as this information can simply be scraped from the internet, so the tool for this will simply enable the LLM to scrape the appropriate page of the site for the id using the name of the anime e.g. *getId(anime_name: string) -> int*."
   ]
  },
  {
   "cell_type": "markdown",
   "metadata": {},
   "source": [
    "#### Imports"
   ]
  },
  {
   "cell_type": "code",
   "execution_count": 1,
   "metadata": {},
   "outputs": [
    {
     "name": "stdout",
     "output_type": "stream",
     "text": [
      "Requirement already satisfied: fuzzywuzzy in c:\\users\\halor\\appdata\\local\\programs\\python\\python39\\lib\\site-packages (0.18.0)\n",
      "Note: you may need to restart the kernel to use updated packages.\n"
     ]
    },
    {
     "name": "stderr",
     "output_type": "stream",
     "text": [
      "WARNING: You are using pip version 22.0.4; however, version 23.3.2 is available.\n",
      "You should consider upgrading via the 'c:\\Users\\halor\\AppData\\Local\\Programs\\Python\\Python39\\python.exe -m pip install --upgrade pip' command.\n"
     ]
    },
    {
     "name": "stdout",
     "output_type": "stream",
     "text": [
      "Requirement already satisfied: langchain in c:\\users\\halor\\appdata\\local\\programs\\python\\python39\\lib\\site-packages (0.0.352)Note: you may need to restart the kernel to use updated packages.\n"
     ]
    },
    {
     "name": "stderr",
     "output_type": "stream",
     "text": [
      "WARNING: You are using pip version 22.0.4; however, version 23.3.2 is available.\n",
      "You should consider upgrading via the 'c:\\Users\\halor\\AppData\\Local\\Programs\\Python\\Python39\\python.exe -m pip install --upgrade pip' command.\n"
     ]
    },
    {
     "name": "stdout",
     "output_type": "stream",
     "text": [
      "\n",
      "Requirement already satisfied: langchain-community<0.1,>=0.0.2 in c:\\users\\halor\\appdata\\local\\programs\\python\\python39\\lib\\site-packages (from langchain) (0.0.6)\n",
      "Requirement already satisfied: langsmith<0.1.0,>=0.0.70 in c:\\users\\halor\\appdata\\local\\programs\\python\\python39\\lib\\site-packages (from langchain) (0.0.75)\n",
      "Requirement already satisfied: async-timeout<5.0.0,>=4.0.0 in c:\\users\\halor\\appdata\\local\\programs\\python\\python39\\lib\\site-packages (from langchain) (4.0.3)\n",
      "Requirement already satisfied: aiohttp<4.0.0,>=3.8.3 in c:\\users\\halor\\appdata\\local\\programs\\python\\python39\\lib\\site-packages (from langchain) (3.9.1)\n",
      "Requirement already satisfied: requests<3,>=2 in c:\\users\\halor\\appdata\\local\\programs\\python\\python39\\lib\\site-packages (from langchain) (2.26.0)\n",
      "Requirement already satisfied: pydantic<3,>=1 in c:\\users\\halor\\appdata\\local\\programs\\python\\python39\\lib\\site-packages (from langchain) (2.5.3)\n",
      "Requirement already satisfied: tenacity<9.0.0,>=8.1.0 in c:\\users\\halor\\appdata\\local\\programs\\python\\python39\\lib\\site-packages (from langchain) (8.2.3)\n",
      "Requirement already satisfied: PyYAML>=5.3 in c:\\users\\halor\\appdata\\local\\programs\\python\\python39\\lib\\site-packages (from langchain) (6.0.1)\n",
      "Requirement already satisfied: SQLAlchemy<3,>=1.4 in c:\\users\\halor\\appdata\\local\\programs\\python\\python39\\lib\\site-packages (from langchain) (2.0.24)\n",
      "Requirement already satisfied: dataclasses-json<0.7,>=0.5.7 in c:\\users\\halor\\appdata\\local\\programs\\python\\python39\\lib\\site-packages (from langchain) (0.6.3)\n",
      "Requirement already satisfied: jsonpatch<2.0,>=1.33 in c:\\users\\halor\\appdata\\local\\programs\\python\\python39\\lib\\site-packages (from langchain) (1.33)\n",
      "Requirement already satisfied: langchain-core<0.2,>=0.1 in c:\\users\\halor\\appdata\\local\\programs\\python\\python39\\lib\\site-packages (from langchain) (0.1.3)\n",
      "Requirement already satisfied: numpy<2,>=1 in c:\\users\\halor\\appdata\\local\\programs\\python\\python39\\lib\\site-packages (from langchain) (1.21.4)\n",
      "Requirement already satisfied: attrs>=17.3.0 in c:\\users\\halor\\appdata\\local\\programs\\python\\python39\\lib\\site-packages (from aiohttp<4.0.0,>=3.8.3->langchain) (21.2.0)\n",
      "Requirement already satisfied: aiosignal>=1.1.2 in c:\\users\\halor\\appdata\\local\\programs\\python\\python39\\lib\\site-packages (from aiohttp<4.0.0,>=3.8.3->langchain) (1.3.1)\n",
      "Requirement already satisfied: yarl<2.0,>=1.0 in c:\\users\\halor\\appdata\\local\\programs\\python\\python39\\lib\\site-packages (from aiohttp<4.0.0,>=3.8.3->langchain) (1.9.4)\n",
      "Requirement already satisfied: frozenlist>=1.1.1 in c:\\users\\halor\\appdata\\local\\programs\\python\\python39\\lib\\site-packages (from aiohttp<4.0.0,>=3.8.3->langchain) (1.4.1)\n",
      "Requirement already satisfied: multidict<7.0,>=4.5 in c:\\users\\halor\\appdata\\local\\programs\\python\\python39\\lib\\site-packages (from aiohttp<4.0.0,>=3.8.3->langchain) (6.0.4)\n",
      "Requirement already satisfied: typing-inspect<1,>=0.4.0 in c:\\users\\halor\\appdata\\local\\programs\\python\\python39\\lib\\site-packages (from dataclasses-json<0.7,>=0.5.7->langchain) (0.9.0)\n",
      "Requirement already satisfied: marshmallow<4.0.0,>=3.18.0 in c:\\users\\halor\\appdata\\local\\programs\\python\\python39\\lib\\site-packages (from dataclasses-json<0.7,>=0.5.7->langchain) (3.20.1)\n",
      "Requirement already satisfied: jsonpointer>=1.9 in c:\\users\\halor\\appdata\\local\\programs\\python\\python39\\lib\\site-packages (from jsonpatch<2.0,>=1.33->langchain) (2.4)\n",
      "Requirement already satisfied: packaging<24.0,>=23.2 in c:\\users\\halor\\appdata\\local\\programs\\python\\python39\\lib\\site-packages (from langchain-core<0.2,>=0.1->langchain) (23.2)\n",
      "Requirement already satisfied: anyio<5,>=3 in c:\\users\\halor\\appdata\\local\\programs\\python\\python39\\lib\\site-packages (from langchain-core<0.2,>=0.1->langchain) (4.2.0)\n",
      "Requirement already satisfied: typing-extensions>=4.6.1 in c:\\users\\halor\\appdata\\local\\programs\\python\\python39\\lib\\site-packages (from pydantic<3,>=1->langchain) (4.9.0)\n",
      "Requirement already satisfied: pydantic-core==2.14.6 in c:\\users\\halor\\appdata\\local\\programs\\python\\python39\\lib\\site-packages (from pydantic<3,>=1->langchain) (2.14.6)\n",
      "Requirement already satisfied: annotated-types>=0.4.0 in c:\\users\\halor\\appdata\\local\\programs\\python\\python39\\lib\\site-packages (from pydantic<3,>=1->langchain) (0.6.0)\n",
      "Requirement already satisfied: urllib3<1.27,>=1.21.1 in c:\\users\\halor\\appdata\\local\\programs\\python\\python39\\lib\\site-packages (from requests<3,>=2->langchain) (1.26.7)\n",
      "Requirement already satisfied: idna<4,>=2.5 in c:\\users\\halor\\appdata\\local\\programs\\python\\python39\\lib\\site-packages (from requests<3,>=2->langchain) (3.3)\n",
      "Requirement already satisfied: charset-normalizer~=2.0.0 in c:\\users\\halor\\appdata\\local\\programs\\python\\python39\\lib\\site-packages (from requests<3,>=2->langchain) (2.0.8)\n",
      "Requirement already satisfied: certifi>=2017.4.17 in c:\\users\\halor\\appdata\\local\\programs\\python\\python39\\lib\\site-packages (from requests<3,>=2->langchain) (2021.10.8)\n",
      "Requirement already satisfied: greenlet!=0.4.17 in c:\\users\\halor\\appdata\\local\\programs\\python\\python39\\lib\\site-packages (from SQLAlchemy<3,>=1.4->langchain) (3.0.3)\n",
      "Requirement already satisfied: sniffio>=1.1 in c:\\users\\halor\\appdata\\local\\programs\\python\\python39\\lib\\site-packages (from anyio<5,>=3->langchain-core<0.2,>=0.1->langchain) (1.2.0)\n",
      "Requirement already satisfied: exceptiongroup>=1.0.2 in c:\\users\\halor\\appdata\\local\\programs\\python\\python39\\lib\\site-packages (from anyio<5,>=3->langchain-core<0.2,>=0.1->langchain) (1.2.0)\n",
      "Requirement already satisfied: mypy-extensions>=0.3.0 in c:\\users\\halor\\appdata\\local\\programs\\python\\python39\\lib\\site-packages (from typing-inspect<1,>=0.4.0->dataclasses-json<0.7,>=0.5.7->langchain) (1.0.0)\n",
      "Requirement already satisfied: python-Levenshtein in c:\\users\\halor\\appdata\\local\\programs\\python\\python39\\lib\\site-packages (0.23.0)\n",
      "Requirement already satisfied: Levenshtein==0.23.0 in c:\\users\\halor\\appdata\\local\\programs\\python\\python39\\lib\\site-packages (from python-Levenshtein) (0.23.0)\n",
      "Requirement already satisfied: rapidfuzz<4.0.0,>=3.1.0 in c:\\users\\halor\\appdata\\local\\programs\\python\\python39\\lib\\site-packages (from Levenshtein==0.23.0->python-Levenshtein) (3.6.0)\n",
      "Note: you may need to restart the kernel to use updated packages.\n"
     ]
    },
    {
     "name": "stderr",
     "output_type": "stream",
     "text": [
      "WARNING: You are using pip version 22.0.4; however, version 23.3.2 is available.\n",
      "You should consider upgrading via the 'c:\\Users\\halor\\AppData\\Local\\Programs\\Python\\Python39\\python.exe -m pip install --upgrade pip' command.\n"
     ]
    },
    {
     "name": "stdout",
     "output_type": "stream",
     "text": [
      "Requirement already satisfied: openai in c:\\users\\halor\\appdata\\local\\programs\\python\\python39\\lib\\site-packages (1.6.1)\n",
      "Requirement already satisfied: anyio<5,>=3.5.0 in c:\\users\\halor\\appdata\\local\\programs\\python\\python39\\lib\\site-packages (from openai) (4.2.0)\n",
      "Requirement already satisfied: pydantic<3,>=1.9.0 in c:\\users\\halor\\appdata\\local\\programs\\python\\python39\\lib\\site-packages (from openai) (2.5.3)\n",
      "Requirement already satisfied: sniffio in c:\\users\\halor\\appdata\\local\\programs\\python\\python39\\lib\\site-packages (from openai) (1.2.0)\n",
      "Requirement already satisfied: httpx<1,>=0.23.0 in c:\\users\\halor\\appdata\\local\\programs\\python\\python39\\lib\\site-packages (from openai) (0.24.1)\n",
      "Requirement already satisfied: tqdm>4 in c:\\users\\halor\\appdata\\local\\programs\\python\\python39\\lib\\site-packages (from openai) (4.62.3)\n",
      "Requirement already satisfied: typing-extensions<5,>=4.7 in c:\\users\\halor\\appdata\\local\\programs\\python\\python39\\lib\\site-packages (from openai) (4.9.0)\n",
      "Requirement already satisfied: distro<2,>=1.7.0 in c:\\users\\halor\\appdata\\local\\programs\\python\\python39\\lib\\site-packages (from openai) (1.9.0)\n",
      "Requirement already satisfied: exceptiongroup>=1.0.2 in c:\\users\\halor\\appdata\\local\\programs\\python\\python39\\lib\\site-packages (from anyio<5,>=3.5.0->openai) (1.2.0)\n",
      "Requirement already satisfied: idna>=2.8 in c:\\users\\halor\\appdata\\local\\programs\\python\\python39\\lib\\site-packages (from anyio<5,>=3.5.0->openai) (3.3)\n",
      "Requirement already satisfied: httpcore<0.18.0,>=0.15.0 in c:\\users\\halor\\appdata\\local\\programs\\python\\python39\\lib\\site-packages (from httpx<1,>=0.23.0->openai) (0.17.3)\n",
      "Requirement already satisfied: certifi in c:\\users\\halor\\appdata\\local\\programs\\python\\python39\\lib\\site-packages (from httpx<1,>=0.23.0->openai) (2021.10.8)\n",
      "Requirement already satisfied: annotated-types>=0.4.0 in c:\\users\\halor\\appdata\\local\\programs\\python\\python39\\lib\\site-packages (from pydantic<3,>=1.9.0->openai) (0.6.0)\n",
      "Requirement already satisfied: pydantic-core==2.14.6 in c:\\users\\halor\\appdata\\local\\programs\\python\\python39\\lib\\site-packages (from pydantic<3,>=1.9.0->openai) (2.14.6)\n",
      "Requirement already satisfied: colorama in c:\\users\\halor\\appdata\\local\\programs\\python\\python39\\lib\\site-packages (from tqdm>4->openai) (0.4.4)\n",
      "Requirement already satisfied: h11<0.15,>=0.13 in c:\\users\\halor\\appdata\\local\\programs\\python\\python39\\lib\\site-packages (from httpcore<0.18.0,>=0.15.0->httpx<1,>=0.23.0->openai) (0.14.0)\n",
      "Note: you may need to restart the kernel to use updated packages.\n"
     ]
    },
    {
     "name": "stderr",
     "output_type": "stream",
     "text": [
      "WARNING: You are using pip version 22.0.4; however, version 23.3.2 is available.\n",
      "You should consider upgrading via the 'c:\\Users\\halor\\AppData\\Local\\Programs\\Python\\Python39\\python.exe -m pip install --upgrade pip' command.\n"
     ]
    },
    {
     "name": "stdout",
     "output_type": "stream",
     "text": [
      "Requirement already satisfied: tiktoken in c:\\users\\halor\\appdata\\local\\programs\\python\\python39\\lib\\site-packages (0.5.2)\n",
      "Requirement already satisfied: regex>=2022.1.18 in c:\\users\\halor\\appdata\\local\\programs\\python\\python39\\lib\\site-packages (from tiktoken) (2023.12.25)\n",
      "Requirement already satisfied: requests>=2.26.0 in c:\\users\\halor\\appdata\\local\\programs\\python\\python39\\lib\\site-packages (from tiktoken) (2.26.0)\n",
      "Requirement already satisfied: urllib3<1.27,>=1.21.1 in c:\\users\\halor\\appdata\\local\\programs\\python\\python39\\lib\\site-packages (from requests>=2.26.0->tiktoken) (1.26.7)\n",
      "Requirement already satisfied: charset-normalizer~=2.0.0 in c:\\users\\halor\\appdata\\local\\programs\\python\\python39\\lib\\site-packages (from requests>=2.26.0->tiktoken) (2.0.8)\n",
      "Requirement already satisfied: idna<4,>=2.5 in c:\\users\\halor\\appdata\\local\\programs\\python\\python39\\lib\\site-packages (from requests>=2.26.0->tiktoken) (3.3)\n",
      "Requirement already satisfied: certifi>=2017.4.17 in c:\\users\\halor\\appdata\\local\\programs\\python\\python39\\lib\\site-packages (from requests>=2.26.0->tiktoken) (2021.10.8)\n",
      "Note: you may need to restart the kernel to use updated packages.\n"
     ]
    },
    {
     "name": "stderr",
     "output_type": "stream",
     "text": [
      "WARNING: You are using pip version 22.0.4; however, version 23.3.2 is available.\n",
      "You should consider upgrading via the 'c:\\Users\\halor\\AppData\\Local\\Programs\\Python\\Python39\\python.exe -m pip install --upgrade pip' command.\n"
     ]
    },
    {
     "name": "stdout",
     "output_type": "stream",
     "text": [
      "Requirement already satisfied: python-dotenv in c:\\users\\halor\\appdata\\local\\programs\\python\\python39\\lib\\site-packages (1.0.0)\n",
      "Note: you may need to restart the kernel to use updated packages.\n"
     ]
    },
    {
     "name": "stderr",
     "output_type": "stream",
     "text": [
      "WARNING: You are using pip version 22.0.4; however, version 23.3.2 is available.\n",
      "You should consider upgrading via the 'c:\\Users\\halor\\AppData\\Local\\Programs\\Python\\Python39\\python.exe -m pip install --upgrade pip' command.\n"
     ]
    }
   ],
   "source": [
    "%pip install fuzzywuzzy\n",
    "%pip install langchain\n",
    "%pip install python-Levenshtein\n",
    "%pip install openai\n",
    "%pip install tiktoken\n",
    "\n",
    "%pip install python-dotenv\n",
    "%load_ext dotenv\n",
    "%dotenv"
   ]
  },
  {
   "cell_type": "code",
   "execution_count": 2,
   "metadata": {},
   "outputs": [],
   "source": [
    "import requests, os, yaml\n",
    "from typing import Type, Optional\n",
    "from fuzzywuzzy import fuzz\n",
    "from pydantic import BaseModel, Field\n",
    "\n",
    "from langchain.agents import AgentType, initialize_agent\n",
    "from langchain.chat_models import ChatOpenAI\n",
    "from langchain.tools import BaseTool, Tool\n",
    "from langchain_core.tools import ToolException\n",
    "from langchain.callbacks.manager import (\n",
    "    AsyncCallbackManagerForToolRun,\n",
    "    CallbackManagerForToolRun,\n",
    ")"
   ]
  },
  {
   "cell_type": "markdown",
   "metadata": {},
   "source": [
    "#### Utils"
   ]
  },
  {
   "cell_type": "code",
   "execution_count": 3,
   "metadata": {},
   "outputs": [],
   "source": [
    "def searchAnimeName(animeName: str) -> dict:\n",
    "    url = 'https://api.jikan.moe/v4/anime?q={name}'.format(name=animeName)\n",
    "    response = requests.get(url)\n",
    "    response_json = response.json()\n",
    "    return response_json['data']\n",
    "\n",
    "def getBestMatch(query: str, searchResults: list[dict]) -> tuple[str, str]:\n",
    "    # Sort by levenshtein distance (edit distance) between query and title. The closest\n",
    "    # match will be the final result\n",
    "    searchResultsSorted = sorted(searchResults, key=lambda sr: fuzz.ratio(query, sr['title']))\n",
    "    bestMatch = searchResultsSorted[len(searchResults) - 1]\n",
    "    bestMatchTitle = bestMatch['title']\n",
    "    bestMatchId = bestMatch['mal_id'] \n",
    "    return bestMatchTitle, bestMatchId\n",
    "\n",
    "# Test\n",
    "query = \"Naruto Shippuden\"\n",
    "searchResults = searchAnimeName(query)\n",
    "bestMatch = getBestMatch(query, searchResults)\n",
    "print(bestMatch)"
   ]
  },
  {
   "cell_type": "markdown",
   "metadata": {},
   "source": [
    "#### Tool"
   ]
  },
  {
   "cell_type": "code",
   "execution_count": 4,
   "metadata": {},
   "outputs": [],
   "source": [
    "class AnimeIDLookupSchema(BaseModel):\n",
    "    query: str = Field(description=\"anime name\")\n",
    "\n",
    "\n",
    "class AnimeIDLookupTool(BaseTool):\n",
    "    name = \"anime_id_lookup\"\n",
    "    description = \"Useful for when you need to retrieve the id of an anime\"\n",
    "    args_schema: Type[AnimeIDLookupSchema] = AnimeIDLookupSchema\n",
    "\n",
    "    def _run(\n",
    "        self,\n",
    "        query: str,\n",
    "        run_manager: Optional[CallbackManagerForToolRun] = None,\n",
    "    ) -> str:\n",
    "        \"\"\"Use the tool.\"\"\"\n",
    "        try:    \n",
    "            searchResults = searchAnimeName(query)\n",
    "            if searchResults:\n",
    "                _, bestMatchId = getBestMatch(query, searchResults)\n",
    "                return bestMatchId\n",
    "            raise ToolException(\"Anime not found\")\n",
    "        except Exception as e:\n",
    "            raise ToolException(e)\n",
    "\n",
    "    async def _arun(\n",
    "        self,\n",
    "        query: str,\n",
    "        run_manager: Optional[AsyncCallbackManagerForToolRun] = None,\n",
    "    ) -> str:\n",
    "        \"\"\"Use the tool asynchronously.\"\"\"\n",
    "        raise NotImplementedError(\"anime_id_lookup does not support async\")"
   ]
  },
  {
   "cell_type": "markdown",
   "metadata": {},
   "source": [
    "#### Test\n",
    "\n",
    "Experimentation is carried out using OpenAI function calling, however useful resources for creating agents and learning how to use Llama 2 as an agent locally are listed below: \n",
    "- https://www.pinecone.io/learn/llama-2/\n",
    "- https://philschmid.github.io/easyllm/examples/llama2-agent-example/#basic-example-of-using-a-tool-with-llama-2-70b\n",
    "- https://medium.com/@gil.fernandes/langchain-chat-with-custom-tools-functions-and-memory-e34daa331aa7"
   ]
  },
  {
   "cell_type": "code",
   "execution_count": 5,
   "metadata": {},
   "outputs": [],
   "source": [
    "key: str = os.getenv(\"OPENAI_API_KEY\")\n",
    "llm = ChatOpenAI(model='gpt-3.5-turbo', temperature=0, openai_api_key=key)\n",
    "\n",
    "id_lookup_tool = AnimeIDLookupTool()\n",
    "id_lookup_tool.handle_tool_error = True\n",
    "\n",
    "tools = [id_lookup_tool]\n",
    "agent_executor = initialize_agent(\n",
    "    tools, llm, agent=AgentType.OPENAI_FUNCTIONS, verbose=True\n",
    ")\n",
    "result = agent_executor({\"input\": \"Tell me the anime ID of Cowboy Bepop\"}) # LLM should return 1\n",
    "result = agent_executor({\"input\": \"Tell me the anime ID of ...\"}) # LLM should throw error"
   ]
  },
  {
   "cell_type": "markdown",
   "metadata": {},
   "source": [
    "### Remaining functionality\n",
    "\n",
    "The other aspects of the agent's functionality are non-trivial in that they all require allowing the agent to make API calls to the Jikan API. Langchain supports three main ways of doing this:\n",
    "1. **OpenAPI** - If the API follows the OpenAPI spec, we can use the OpenAPI toolkit to parse the APIs OpenAPI specification and provide the LLM with the available tools directly. Refer to: https://python.langchain.com/docs/use_cases/apis and https://python.langchain.com/docs/integrations/toolkits/openapi\n",
    "2. **Non-OpenAPI** - If the API doesn't follow the OpenAPI spec, we can define our own documentation for the API to construct the chain. As far as I know there is no standardised way of doing this, so it would require examining the examples in the Langchain docs and going through trial and error. Refer to: https://python.langchain.com/docs/use_cases/apis\n",
    "3. **Custom Tools** - We define a custom tool for each endpoint required, and under the hood facilitate fetching the APIs response\n",
    "\n",
    "Thankfully the JikanAPI provides an OpenAPI spec, so approaches 1 & 3 are viable. I will carry out experimentation below and decide which will be optimal for the final chatbot."
   ]
  },
  {
   "cell_type": "markdown",
   "metadata": {},
   "source": [
    "### OpenAPI"
   ]
  },
  {
   "cell_type": "code",
   "execution_count": 9,
   "metadata": {},
   "outputs": [
    {
     "name": "stdout",
     "output_type": "stream",
     "text": [
      "\n",
      "\n",
      "\u001b[1m> Entering new AgentExecutor chain...\u001b[0m\n",
      "\u001b[32;1m\u001b[1;3m\n",
      "Invoking: `anime_id_lookup` with `{'query': 'Cowboy Bebop'}`\n",
      "\n",
      "\n",
      "\u001b[0m\u001b[36;1m\u001b[1;3m1\u001b[0m\u001b[32;1m\u001b[1;3m\n",
      "Invoking: `anime_api_agent` with `plot anime id: 1`\n",
      "\n",
      "\n",
      "\u001b[0m\n",
      "\n",
      "\u001b[1m> Entering new AgentExecutor chain...\u001b[0m\n",
      "\u001b[32;1m\u001b[1;3mAction: api_planner\n",
      "Action Input: \"plot anime id: 1\"\u001b[0m\n",
      "Observation: \u001b[36;1m\u001b[1;3m1. GET /anime/{id} to retrieve information about the anime with id 1.\u001b[0m\n",
      "Thought:\u001b[32;1m\u001b[1;3mI'm ready to execute the API calls.\n",
      "Action: api_controller\n",
      "Action Input: GET /anime/1\u001b[0m\n",
      "\n",
      "\u001b[1m> Entering new AgentExecutor chain...\u001b[0m\n",
      "\u001b[32;1m\u001b[1;3mI need to make a GET request to the /anime/1 endpoint to retrieve information about the anime with id 1. I will use the requests_get tool to execute this API call.\n",
      "\n",
      "Action: requests_get\n",
      "Action Input:\n",
      "{\n",
      "  \"url\": \"https://api.jikan.moe/v4/anime/1\",\n",
      "  \"params\": {},\n",
      "  \"output_instructions\": {}\n",
      "}\n",
      "\u001b[0m\n",
      "Observation: \u001b[36;1m\u001b[1;3mTitle: Cowboy Bebop\n",
      "Type: TV\n",
      "Status: Finished Airing\n",
      "Episodes: 26\n",
      "Airing: No\n",
      "Aired: Apr 3, 1998 to Apr 24, 1999\n",
      "Duration: 24 min per ep\n",
      "Rating: R - 17+ (violence & profanity)\n",
      "Score: 8.75\n",
      "Scored by: 944,288 users\n",
      "Rank: 45\n",
      "Popularity: 43\n",
      "Members: 1,827,544\n",
      "Favorites: 80,874\n",
      "Synopsis: Crime is timeless. By the year 2071, humanity has expanded across the galaxy, filling the surface of other planets with settlements like those on Earth. These new societies are plagued by murder, drug use, and theft, and intergalactic outlaws are hunted by a growing number of tough bounty hunters. Spike Spiegel and Jet Black pursue criminals throughout space to make a humble living. Beneath his goofy and aloof demeanor, Spike is haunted by the weight of his violent past. Meanwhile, Jet manages his own troubled memories while taking care of Spike and the Bebop, their ship. The duo is joined by the beautiful con artist Faye Valentine, odd child Edward Wong Hau Pepelu Tivrusky IV, and Ein, a bioengineered Welsh Corgi. While developing bonds and working to catch a colorful cast of criminals, the Bebop crew's lives are disrupted by a menace from Spike's past. As a rival's maniacal plot continues to unravel, Spike must choose between life with his newfound family or revenge for his old wounds. [Written by MAL Rewrite]\n",
      "Background: When Cowboy Bebop first aired in spring of 1998 on TV Tokyo, only episodes 2, 3, 7-15, and 18 were broadcast, it was concluded with a recap special known as Yose Atsume Blues. This was due to anime censorship having increased following the big controversies over Evangelion, as a result most of the series was pulled from the air due to violent content. Satellite channel WOWOW picked up the series in the fall of that year and aired it in its entirety uncensored. Cowboy Bebop was not a ratings hit in Japan, but sold over 19,000 DVD units in the initial release run, and 81,000 overall. Protagonist Spike Spiegel won Best Male Character, and Megumi Hayashibara won Best Voice Actor for her role as Faye Valentine in the 1999 and 2000 Anime Grand Prix, respectively. Cowboy Bebop's biggest influence has been in the United States, where it premiered on Adult Swim in 2001 with many reruns since. The show's heavy Western influence struck a chord with American viewers, where it became a \"gateway drug\" to anime aimed at adult audiences.\n",
      "Producers: Bandai Visual\n",
      "Licensors: Funimation\n",
      "Studios: Sunrise\n",
      "Genres: Action, Award Winning, Sci-Fi\u001b[0m\n",
      "Thought:\u001b[32;1m\u001b[1;3mI have successfully retrieved the information about the anime with id 1. Now I can see the title, type, status, episodes, airing status, aired dates, duration, rating, score, number of users who scored it, rank, popularity, number of members, number of favorites, synopsis, and background information about the anime. I also see the producers, licensors, studios, and genres associated with the anime.\n",
      "\n",
      "Final Answer:\n",
      "Title: Cowboy Bebop\n",
      "Type: TV\n",
      "Status: Finished Airing\n",
      "Episodes: 26\n",
      "Airing: No\n",
      "Aired: Apr 3, 1998 to Apr 24, 1999\n",
      "Duration: 24 min per ep\n",
      "Rating: R - 17+ (violence & profanity)\n",
      "Score: 8.75\n",
      "Scored by: 944,288 users\n",
      "Rank: 45\n",
      "Popularity: 43\n",
      "Members: 1,827,544\n",
      "Favorites: 80,874\n",
      "Synopsis: Crime is timeless. By the year 2071, humanity has expanded across the galaxy, filling the surface of other planets with settlements like those on Earth. These new societies are plagued by murder, drug use, and theft, and intergalactic outlaws are hunted by a growing number of tough bounty hunters. Spike Spiegel and Jet Black pursue criminals throughout space to make a humble living. Beneath his goofy and aloof demeanor, Spike is haunted by the weight of his violent past. Meanwhile, Jet manages his own troubled memories while taking care of Spike and the Bebop, their ship. The duo is joined by the beautiful con artist Faye Valentine, odd child Edward Wong Hau Pepelu Tivrusky IV, and Ein, a bioengineered Welsh Corgi. While developing bonds and working to catch a colorful cast of criminals, the Bebop crew's lives are disrupted by a menace from Spike's past. As a rival's maniacal plot continues to unravel, Spike must choose between life with his newfound family or revenge for his old wounds. [Written by MAL Rewrite]\n",
      "Background: When Cowboy Bebop first aired in spring of 1998 on TV Tokyo, only episodes 2, 3, 7-15, and 18 were broadcast, it was concluded with a recap special known as Yose Atsume Blues. This was due to anime censorship having increased following the big controversies over Evangelion, as a result most of the series was pulled from the air due to violent content. Satellite channel WOWOW picked up the series in the fall of that year and aired it in its entirety uncensored. Cowboy Bebop was not a ratings hit in Japan, but sold over 19,000 DVD units in the initial release run, and 81,000 overall. Protagonist Spike Spiegel won Best Male Character, and Megumi Hayashibara won Best Voice Actor for her role as Faye Valentine in the 1999 and 2000 Anime Grand Prix, respectively. Cowboy Bebop's biggest influence has been in the United States, where it premiered on Adult Swim in 2001 with many reruns since. The show's heavy Western influence struck a chord with American viewers, where it became a \"gateway drug\" to anime aimed at adult audiences.\n",
      "Producers: Bandai Visual\n",
      "Licensors: Funimation\n",
      "Studios: Sunrise\n",
      "Genres: Action, Award Winning, Sci-Fi\u001b[0m\n",
      "\n",
      "\u001b[1m> Finished chain.\u001b[0m\n",
      "\n",
      "Observation: \u001b[33;1m\u001b[1;3mTitle: Cowboy Bebop\n",
      "Type: TV\n",
      "Status: Finished Airing\n",
      "Episodes: 26\n",
      "Airing: No\n",
      "Aired: Apr 3, 1998 to Apr 24, 1999\n",
      "Duration: 24 min per ep\n",
      "Rating: R - 17+ (violence & profanity)\n",
      "Score: 8.75\n",
      "Scored by: 944,288 users\n",
      "Rank: 45\n",
      "Popularity: 43\n",
      "Members: 1,827,544\n",
      "Favorites: 80,874\n",
      "Synopsis: Crime is timeless. By the year 2071, humanity has expanded across the galaxy, filling the surface of other planets with settlements like those on Earth. These new societies are plagued by murder, drug use, and theft, and intergalactic outlaws are hunted by a growing number of tough bounty hunters. Spike Spiegel and Jet Black pursue criminals throughout space to make a humble living. Beneath his goofy and aloof demeanor, Spike is haunted by the weight of his violent past. Meanwhile, Jet manages his own troubled memories while taking care of Spike and the Bebop, their ship. The duo is joined by the beautiful con artist Faye Valentine, odd child Edward Wong Hau Pepelu Tivrusky IV, and Ein, a bioengineered Welsh Corgi. While developing bonds and working to catch a colorful cast of criminals, the Bebop crew's lives are disrupted by a menace from Spike's past. As a rival's maniacal plot continues to unravel, Spike must choose between life with his newfound family or revenge for his old wounds. [Written by MAL Rewrite]\n",
      "Background: When Cowboy Bebop first aired in spring of 1998 on TV Tokyo, only episodes 2, 3, 7-15, and 18 were broadcast, it was concluded with a recap special known as Yose Atsume Blues. This was due to anime censorship having increased following the big controversies over Evangelion, as a result most of the series was pulled from the air due to violent content. Satellite channel WOWOW picked up the series in the fall of that year and aired it in its entirety uncensored. Cowboy Bebop was not a ratings hit in Japan, but sold over 19,000 DVD units in the initial release run, and 81,000 overall. Protagonist Spike Spiegel won Best Male Character, and Megumi Hayashibara won Best Voice Actor for her role as Faye Valentine in the 1999 and 2000 Anime Grand Prix, respectively. Cowboy Bebop's biggest influence has been in the United States, where it premiered on Adult Swim in 2001 with many reruns since. The show's heavy Western influence struck a chord with American viewers, where it became a \"gateway drug\" to anime aimed at adult audiences.\n",
      "Producers: Bandai Visual\n",
      "Licensors: Funimation\n",
      "Studios: Sunrise\n",
      "Genres: Action, Award Winning, Sci-Fi\u001b[0m\n",
      "Thought:\u001b[32;1m\u001b[1;3mI have executed the plan and retrieved the information about the anime with id 1.\n",
      "Final Answer: \n",
      "Title: Cowboy Bebop\n",
      "Type: TV\n",
      "Status: Finished Airing\n",
      "Episodes: 26\n",
      "Airing: No\n",
      "Aired: Apr 3, 1998 to Apr 24, 1999\n",
      "Duration: 24 min per ep\n",
      "Rating: R - 17+ (violence & profanity)\n",
      "Score: 8.75\n",
      "Scored by: 944,288 users\n",
      "Rank: 45\n",
      "Popularity: 43\n",
      "Members: 1,827,544\n",
      "Favorites: 80,874\n",
      "Synopsis: Crime is timeless. By the year 2071, humanity has expanded across the galaxy, filling the surface of other planets with settlements like those on Earth. These new societies are plagued by murder, drug use, and theft, and intergalactic outlaws are hunted by a growing number of tough bounty hunters. Spike Spiegel and Jet Black pursue criminals throughout space to make a humble living. Beneath his goofy and aloof demeanor, Spike is haunted by the weight of his violent past. Meanwhile, Jet manages his own troubled memories while taking care of Spike and the Bebop, their ship. The duo is joined by the beautiful con artist Faye Valentine, odd child Edward Wong Hau Pepelu Tivrusky IV, and Ein, a bioengineered Welsh Corgi. While developing bonds and working to catch a colorful cast of criminals, the Bebop crew's lives are disrupted by a menace from Spike's past. As a rival's maniacal plot continues to unravel, Spike must choose between life with his newfound family or revenge for his old wounds. [Written by MAL Rewrite]\n",
      "Background: When Cowboy Bebop first aired in spring of 1998 on TV Tokyo, only episodes 2, 3, 7-15, and 18 were broadcast, it was concluded with a recap special known as Yose Atsume Blues. This was due to anime censorship having increased following the big controversies over Evangelion, as a result most of the series was pulled from the air due to violent content. Satellite channel WOWOW picked up the series in the fall of that year and aired it in its entirety uncensored. Cowboy Bebop was not a ratings hit in Japan, but sold over 19,000 DVD units in the initial release run, and 81,000 overall. Protagonist Spike Spiegel won Best Male Character, and Megumi Hayashibara won Best Voice Actor for her role as Faye Valentine in the 1999 and 2000 Anime Grand Prix, respectively. Cowboy Bebop's biggest influence has been in the United States, where it premiered on Adult Swim in 2001 with many reruns since. The show's heavy Western influence struck a chord with American viewers, where it became a \"gateway drug\" to anime aimed at adult audiences.\n",
      "Producers: Bandai Visual\n",
      "Licensors: Funimation\n",
      "Studios: Sunrise\n",
      "Genres: Action, Award Winning, Sci-Fi\u001b[0m\n",
      "\n",
      "\u001b[1m> Finished chain.\u001b[0m\n",
      "\u001b[33;1m\u001b[1;3mTitle: Cowboy Bebop\n",
      "Type: TV\n",
      "Status: Finished Airing\n",
      "Episodes: 26\n",
      "Airing: No\n",
      "Aired: Apr 3, 1998 to Apr 24, 1999\n",
      "Duration: 24 min per ep\n",
      "Rating: R - 17+ (violence & profanity)\n",
      "Score: 8.75\n",
      "Scored by: 944,288 users\n",
      "Rank: 45\n",
      "Popularity: 43\n",
      "Members: 1,827,544\n",
      "Favorites: 80,874\n",
      "Synopsis: Crime is timeless. By the year 2071, humanity has expanded across the galaxy, filling the surface of other planets with settlements like those on Earth. These new societies are plagued by murder, drug use, and theft, and intergalactic outlaws are hunted by a growing number of tough bounty hunters. Spike Spiegel and Jet Black pursue criminals throughout space to make a humble living. Beneath his goofy and aloof demeanor, Spike is haunted by the weight of his violent past. Meanwhile, Jet manages his own troubled memories while taking care of Spike and the Bebop, their ship. The duo is joined by the beautiful con artist Faye Valentine, odd child Edward Wong Hau Pepelu Tivrusky IV, and Ein, a bioengineered Welsh Corgi. While developing bonds and working to catch a colorful cast of criminals, the Bebop crew's lives are disrupted by a menace from Spike's past. As a rival's maniacal plot continues to unravel, Spike must choose between life with his newfound family or revenge for his old wounds. [Written by MAL Rewrite]\n",
      "Background: When Cowboy Bebop first aired in spring of 1998 on TV Tokyo, only episodes 2, 3, 7-15, and 18 were broadcast, it was concluded with a recap special known as Yose Atsume Blues. This was due to anime censorship having increased following the big controversies over Evangelion, as a result most of the series was pulled from the air due to violent content. Satellite channel WOWOW picked up the series in the fall of that year and aired it in its entirety uncensored. Cowboy Bebop was not a ratings hit in Japan, but sold over 19,000 DVD units in the initial release run, and 81,000 overall. Protagonist Spike Spiegel won Best Male Character, and Megumi Hayashibara won Best Voice Actor for her role as Faye Valentine in the 1999 and 2000 Anime Grand Prix, respectively. Cowboy Bebop's biggest influence has been in the United States, where it premiered on Adult Swim in 2001 with many reruns since. The show's heavy Western influence struck a chord with American viewers, where it became a \"gateway drug\" to anime aimed at adult audiences.\n",
      "Producers: Bandai Visual\n",
      "Licensors: Funimation\n",
      "Studios: Sunrise\n",
      "Genres: Action, Award Winning, Sci-Fi\u001b[0m\u001b[32;1m\u001b[1;3mCowboy Bebop is a TV anime series that aired from April 3, 1998, to April 24, 1999. The story is set in the year 2071, where humanity has expanded across the galaxy and settlements on other planets are plagued by crime. The series follows the adventures of Spike Spiegel and Jet Black, two bounty hunters who pursue criminals throughout space to make a living.\n",
      "\n",
      "Spike, a former member of a criminal syndicate, is haunted by his violent past. Jet, a former police officer, manages his own troubled memories while taking care of Spike and their ship, the Bebop. Along the way, they are joined by Faye Valentine, a beautiful con artist, Edward Wong Hau Pepelu Tivrusky IV, an eccentric child hacker, and Ein, a bioengineered Welsh Corgi.\n",
      "\n",
      "As the Bebop crew develops bonds and works to catch a colorful cast of criminals, their lives are disrupted by a menace from Spike's past. Spike must choose between his newfound family and seeking revenge for his old wounds.\n",
      "\n",
      "Cowboy Bebop is known for its action-packed episodes, award-winning storytelling, and its blend of genres including action, sci-fi, and western influences. The series explores themes of redemption, identity, and the consequences of one's past actions.\n",
      "\n",
      "Please note that Cowboy Bebop is rated R for violence and profanity, and it is recommended for viewers aged 17 and above.\u001b[0m\n",
      "\n",
      "\u001b[1m> Finished chain.\u001b[0m\n"
     ]
    }
   ],
   "source": [
    "from langchain.agents.agent_toolkits.openapi.spec import reduce_openapi_spec\n",
    "from langchain.agents.agent_toolkits.openapi import planner\n",
    "from langchain.requests import RequestsWrapper\n",
    "\n",
    "key: str = os.getenv(\"OPENAI_API_KEY\")\n",
    "llm = ChatOpenAI(model='gpt-3.5-turbo', temperature=0, openai_api_key=key)\n",
    "requests_wrapper = RequestsWrapper()\n",
    "\n",
    "# from urllib.request import urlretrieve\n",
    "# urlretrieve(\"https://raw.githubusercontent.com/jikan-me/jikan-rest/master/storage/api-docs/api-docs.json\",\"jikan_openapi.yaml\")\n",
    "\n",
    "with open(\"jikan_openapi.yaml\", encoding=\"utf-8\") as f:\n",
    "    raw_jikan_api_spec = yaml.load(f, Loader=yaml.Loader)\n",
    "jikan_api_spec = reduce_openapi_spec(raw_jikan_api_spec)\n",
    "\n",
    "jikan_agent = planner.create_openapi_agent(jikan_api_spec, requests_wrapper, llm)\n",
    "\n",
    "# Using simple OpenAPI agent\n",
    "# NOTE: This agent does not have access to the id lookup tool, so the id must be included in the prompt\n",
    "\n",
    "user_query = (\n",
    "    \"Tell me the plot of the anime Cowboy Bepop. It has an id of 1\"\n",
    ")\n",
    "jikan_agent.run(user_query)\n",
    "\n",
    "# OpenAPI agent + ID lookup tool\n",
    "# Here the OpenAPI agent is used as a tool alongside the id lookup tool. Notice that the prompt no\n",
    "# longer needs to include the anime ID. Instead, the main LLM is used as an orchestrator, and is instructed\n",
    "# to pass the id retrieved using the id lookup tool to the OpenAPI agent.\n",
    "\n",
    "jikan_tool = Tool.from_function(\n",
    "        func=jikan_agent.run,\n",
    "        name=\"anime_api_agent\",\n",
    "        description=\"useful for when you need to answer anime related queries. The input to this tool should be in the form '[query] anime id: [id]'\",\n",
    "        handle_tool_error=True\n",
    "    )\n",
    "\n",
    "id_lookup_tool = AnimeIDLookupTool()\n",
    "id_lookup_tool.handle_tool_error = True\n",
    "\n",
    "tools = [id_lookup_tool, jikan_tool]\n",
    "agent_executor = initialize_agent(\n",
    "    tools, llm, agent=AgentType.OPENAI_FUNCTIONS, verbose=True\n",
    ")\n",
    "\n",
    "result = agent_executor({\"input\": \"Tell me the plot of the anime Cowboy Bepop\"})"
   ]
  },
  {
   "cell_type": "markdown",
   "metadata": {},
   "source": [
    "### Custom Tools"
   ]
  },
  {
   "cell_type": "markdown",
   "metadata": {},
   "source": [
    "#### Utils"
   ]
  },
  {
   "cell_type": "code",
   "execution_count": 25,
   "metadata": {},
   "outputs": [
    {
     "name": "stdout",
     "output_type": "stream",
     "text": [
      "\n",
      "    TITLE: Cowboy Bebop\n",
      "    URL: https://myanimelist.net/anime/1/Cowboy_Bebop\n",
      "    TYPE: TV\n",
      "    STATUS: Finished Airing\n",
      "    NUM_EPISODES: 26\n",
      "    AIRING: False\n",
      "    AIRED: 1998-04-03T00:00:00+00:00 to 1999-04-24T00:00:00+00:00\n",
      "    DURATION: 24 min per ep min per ep\n",
      "    RATING: R - 17+ (violence & profanity)\n",
      "    SCORE: 8.75\n",
      "    SCORED BY: 944288\n",
      "    RANK: 45\n",
      "    SYNOPSIS: Crime is timeless. By the year 2071, humanity has expanded across the galaxy, filling the surface of other planets with settlements like those on Earth. These new societies are plagued by murder, drug use, and theft, and intergalactic outlaws are hunted by a growing number of tough bounty hunters.\n",
      "\n",
      "Spike Spiegel and Jet Black pursue criminals throughout space to make a humble living. Beneath his goofy and aloof demeanor, Spike is haunted by the weight of his violent past. Meanwhile, Jet manages his own troubled memories while taking care of Spike and the Bebop, their ship. The duo is joined by the beautiful con artist Faye Valentine, odd child Edward Wong Hau Pepelu Tivrusky IV, and Ein, a bioengineered Welsh Corgi.\n",
      "\n",
      "While developing bonds and working to catch a colorful cast of criminals, the Bebop crew's lives are disrupted by a menace from Spike's past. As a rival's maniacal plot continues to unravel, Spike must choose between life with his newfound family or revenge for his old wounds.\n",
      "\n",
      "[Written by MAL Rewrite]\n",
      "    BACKGROUND: When Cowboy Bebop first aired in spring of 1998 on TV Tokyo, only episodes 2, 3, 7-15, and 18 were broadcast, it was concluded with a recap special known as Yose Atsume Blues. This was due to anime censorship having increased following the big controversies over Evangelion, as a result most of the series was pulled from the air due to violent content. Satellite channel WOWOW picked up the series in the fall of that year and aired it in its entirety uncensored. Cowboy Bebop was not a ratings hit in Japan, but sold over 19,000 DVD units in the initial release run, and 81,000 overall. Protagonist Spike Spiegel won Best Male Character, and Megumi Hayashibara won Best Voice Actor for her role as Faye Valentine in the 1999 and 2000 Anime Grand Prix, respectively. Cowboy Bebop's biggest influence has been in the United States, where it premiered on Adult Swim in 2001 with many reruns since. The show's heavy Western influence struck a chord with American viewers, where it became a \"gateway drug\" to anime aimed at adult audiences.\n",
      "    LICENSORS: Funimation\n",
      "    ANIMATION STUDIOS [NOT A PRODUCER]: Sunrise\n",
      "    PRODUCERS: Bandai Visual\n",
      "    GENRES: Action, Award Winning, Sci-Fi\n",
      "    \n"
     ]
    }
   ],
   "source": [
    "def parseNames(objList: list[dict]) -> str:\n",
    "    namesList = list(map(lambda x: x['name'], objList))\n",
    "    names = \", \".join(namesList)\n",
    "    return names\n",
    "\n",
    "def getAnimeInfo(animeId: int) -> str:\n",
    "    url = 'https://api.jikan.moe/v4/anime/{id}'.format(id=animeId)\n",
    "    response = requests.get(url)\n",
    "    response_json = response.json()\n",
    "    data = response_json['data']\n",
    "    \n",
    "    data_parsed = \"\"\"\n",
    "    TITLE: {title}\n",
    "    URL: {url}\n",
    "    TYPE: {type}\n",
    "    STATUS: {status}\n",
    "    NUM_EPISODES: {num_episodes}\n",
    "    AIRING: {airing}\n",
    "    AIRED: {from_} to {to}\n",
    "    DURATION: {duration} min per ep\n",
    "    RATING: {rating}\n",
    "    SCORE: {score}\n",
    "    SCORED BY: {scored_by}\n",
    "    RANK: {rank}\n",
    "    SYNOPSIS: {synopsis}\n",
    "    BACKGROUND: {background}\n",
    "    LICENSORS: {licensors}\n",
    "    ANIMATION STUDIOS [NOT A PRODUCER]: {studios}\n",
    "    PRODUCERS: {producers}\n",
    "    GENRES: {genres}\n",
    "    \"\"\".format(title=data['title'], \n",
    "               url=data['url'], \n",
    "               type=data['type'], \n",
    "               status=data['status'], \n",
    "               num_episodes=data['episodes'],\n",
    "               airing=data['airing'],\n",
    "               from_=data['aired']['from'],\n",
    "               to=data['aired']['to'],\n",
    "               duration=data['duration'],\n",
    "               rating=data['rating'],\n",
    "               score=data['score'],\n",
    "               scored_by=data['scored_by'],\n",
    "               rank=data['rank'],\n",
    "               synopsis=data['synopsis'],\n",
    "               background=data['background'],\n",
    "               licensors=parseNames(data['licensors']),\n",
    "               studios=parseNames(data['studios']),\n",
    "               producers=parseNames(data['producers']),\n",
    "               genres=parseNames(data['genres'])\n",
    "               )\n",
    "    \n",
    "    return data_parsed\n",
    "\n",
    "print(getAnimeInfo(1))"
   ]
  },
  {
   "cell_type": "markdown",
   "metadata": {},
   "source": [
    "#### Tools"
   ]
  },
  {
   "cell_type": "code",
   "execution_count": 23,
   "metadata": {},
   "outputs": [],
   "source": [
    "class JikanInputSchema(BaseModel):\n",
    "    id: int = Field(description=\"anime id\")\n",
    "\n",
    "\n",
    "class AnimeInfoLookupTool(BaseTool):\n",
    "    name = \"anime_info_lookup\"\n",
    "    description = \"Useful for when you need to get general information on an anime\"\n",
    "    args_schema: Type[JikanInputSchema] = JikanInputSchema\n",
    "\n",
    "    def _run(\n",
    "        self,\n",
    "        id: int,\n",
    "        run_manager: Optional[CallbackManagerForToolRun] = None,\n",
    "    ) -> str:\n",
    "        \"\"\"Use the tool.\"\"\"\n",
    "        try:    \n",
    "            animeInfo = getAnimeInfo(id)\n",
    "            return animeInfo\n",
    "        except Exception as e:\n",
    "            raise ToolException(e)\n",
    "\n",
    "    async def _arun(\n",
    "        self,\n",
    "        id: str,\n",
    "        run_manager: Optional[AsyncCallbackManagerForToolRun] = None,\n",
    "    ) -> str:\n",
    "        \"\"\"Use the tool asynchronously.\"\"\"\n",
    "        raise NotImplementedError(\"anime_id_lookup does not support async\")"
   ]
  },
  {
   "cell_type": "markdown",
   "metadata": {},
   "source": [
    "#### Test"
   ]
  },
  {
   "cell_type": "code",
   "execution_count": 21,
   "metadata": {},
   "outputs": [
    {
     "name": "stdout",
     "output_type": "stream",
     "text": [
      "\n",
      "\n",
      "\u001b[1m> Entering new AgentExecutor chain...\u001b[0m\n",
      "\u001b[32;1m\u001b[1;3m\n",
      "Invoking: `anime_id_lookup` with `{'query': 'Cowboy Bebop'}`\n",
      "\n",
      "\n",
      "\u001b[0m\u001b[36;1m\u001b[1;3m1\u001b[0m\u001b[32;1m\u001b[1;3m\n",
      "Invoking: `anime_info_lookup` with `{'id': 1}`\n",
      "\n",
      "\n",
      "\u001b[0m\u001b[33;1m\u001b[1;3m\n",
      "    TITLE: Cowboy Bebop\n",
      "    URL: https://myanimelist.net/anime/1/Cowboy_Bebop\n",
      "    TYPE: TV\n",
      "    STATUS: Finished Airing\n",
      "    NUM_EPISODES: 26\n",
      "    AIRING: False\n",
      "    AIRED: 1998-04-03T00:00:00+00:00 to 1999-04-24T00:00:00+00:00\n",
      "    DURATION: 24 min per ep min per ep\n",
      "    RATING: R - 17+ (violence & profanity)\n",
      "    SCORE: 8.75\n",
      "    SCORED BY: 944288\n",
      "    RANK: 45\n",
      "    SYNOPSIS: Crime is timeless. By the year 2071, humanity has expanded across the galaxy, filling the surface of other planets with settlements like those on Earth. These new societies are plagued by murder, drug use, and theft, and intergalactic outlaws are hunted by a growing number of tough bounty hunters.\n",
      "\n",
      "Spike Spiegel and Jet Black pursue criminals throughout space to make a humble living. Beneath his goofy and aloof demeanor, Spike is haunted by the weight of his violent past. Meanwhile, Jet manages his own troubled memories while taking care of Spike and the Bebop, their ship. The duo is joined by the beautiful con artist Faye Valentine, odd child Edward Wong Hau Pepelu Tivrusky IV, and Ein, a bioengineered Welsh Corgi.\n",
      "\n",
      "While developing bonds and working to catch a colorful cast of criminals, the Bebop crew's lives are disrupted by a menace from Spike's past. As a rival's maniacal plot continues to unravel, Spike must choose between life with his newfound family or revenge for his old wounds.\n",
      "\n",
      "[Written by MAL Rewrite]\n",
      "    BACKGROUND: When Cowboy Bebop first aired in spring of 1998 on TV Tokyo, only episodes 2, 3, 7-15, and 18 were broadcast, it was concluded with a recap special known as Yose Atsume Blues. This was due to anime censorship having increased following the big controversies over Evangelion, as a result most of the series was pulled from the air due to violent content. Satellite channel WOWOW picked up the series in the fall of that year and aired it in its entirety uncensored. Cowboy Bebop was not a ratings hit in Japan, but sold over 19,000 DVD units in the initial release run, and 81,000 overall. Protagonist Spike Spiegel won Best Male Character, and Megumi Hayashibara won Best Voice Actor for her role as Faye Valentine in the 1999 and 2000 Anime Grand Prix, respectively. Cowboy Bebop's biggest influence has been in the United States, where it premiered on Adult Swim in 2001 with many reruns since. The show's heavy Western influence struck a chord with American viewers, where it became a \"gateway drug\" to anime aimed at adult audiences.\n",
      "    LICENSORS: Funimation\n",
      "    ANIMATION STUDIOS [NOT A PRODUCER]: Sunrise\n",
      "    PRODUCERS: Bandai Visual\n",
      "    GENRES: Action Award Winning Sci-Fi\n",
      "    \u001b[0m\u001b[32;1m\u001b[1;3mCowboy Bebop is a highly acclaimed anime series that aired from 1998 to 1999. It is a TV series with a total of 26 episodes. The show is set in the future where humanity has expanded across the galaxy, and follows a group of bounty hunters as they pursue criminals throughout space.\n",
      "\n",
      "The series has a rating of R - 17+ (violence & profanity) and has a score of 8.75 on MyAnimeList. It has been praised for its unique blend of genres, including action, sci-fi, and award-winning elements.\n",
      "\n",
      "If you enjoy a mix of action, sci-fi, and a compelling story, Cowboy Bebop is definitely worth watching. It has gained a cult following and is considered a classic in the anime community. You can find more information about Cowboy Bebop [here](https://myanimelist.net/anime/1/Cowboy_Bebop).\n",
      "\n",
      "Please note that the decision to watch an anime ultimately depends on your personal preferences.\u001b[0m\n",
      "\n",
      "\u001b[1m> Finished chain.\u001b[0m\n"
     ]
    }
   ],
   "source": [
    "key: str = os.getenv(\"OPENAI_API_KEY\")\n",
    "llm = ChatOpenAI(model='gpt-3.5-turbo', temperature=0, openai_api_key=key)\n",
    "\n",
    "id_lookup_tool = AnimeIDLookupTool()\n",
    "id_lookup_tool.handle_tool_error = True\n",
    "\n",
    "info_lookup_tool = AnimeInfoLookupTool()\n",
    "info_lookup_tool.handle_tool_error = True\n",
    "\n",
    "tools = [id_lookup_tool, info_lookup_tool]\n",
    "agent_executor = initialize_agent(\n",
    "    tools, llm, agent=AgentType.OPENAI_FUNCTIONS, verbose=True\n",
    ")\n",
    "\n",
    "result = agent_executor({\"input\": \"Do you think I should watch Cowboy Bepop?\"})"
   ]
  },
  {
   "cell_type": "markdown",
   "metadata": {},
   "source": [
    "## Agent Construction"
   ]
  }
 ],
 "metadata": {
  "kernelspec": {
   "display_name": "Python 3",
   "language": "python",
   "name": "python3"
  },
  "language_info": {
   "codemirror_mode": {
    "name": "ipython",
    "version": 3
   },
   "file_extension": ".py",
   "mimetype": "text/x-python",
   "name": "python",
   "nbconvert_exporter": "python",
   "pygments_lexer": "ipython3",
   "version": "3.9.12"
  }
 },
 "nbformat": 4,
 "nbformat_minor": 2
}
